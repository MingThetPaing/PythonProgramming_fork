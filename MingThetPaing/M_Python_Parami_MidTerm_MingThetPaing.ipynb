{
  "cells": [
    {
      "cell_type": "markdown",
      "metadata": {
        "id": "bBSbIZTtW7q4"
      },
      "source": [
        "1) Write a Python program to create a dictionary that count the frequency of words in the string given in Q1.txt. Find the most frequent occured word."
      ]
    },
    {
      "cell_type": "code",
      "execution_count": 4,
      "metadata": {
        "colab": {
          "base_uri": "https://localhost:8080/"
        },
        "id": "l6y53V9ZWzox",
        "outputId": "1ce4c64f-89eb-42d1-a1ad-86a1bd0a7bd7"
      },
      "outputs": [
        {
          "name": "stdout",
          "output_type": "stream",
          "text": [
            "['I love this movie! It is sweet, but with satirical humor. The dialogs are great and the adventure scenes are fun. It manages to be romantic and whimsical while laughingat the conventions of the fairy tale genre. I would recommend it to just about anyone. I have seen it several times and I am always happy to see it again and again. ']\n",
            "Word count dictionary: {'i': 4, 'love': 1, 'this': 1, 'movie': 1, 'it': 5, 'is': 1, 'sweet': 1, 'but': 1, 'with': 1, 'satirical': 1, 'humor': 1, 'the': 4, 'dialogs': 1, 'are': 2, 'great': 1, 'and': 4, 'adventure': 1, 'scenes': 1, 'fun': 1, 'manages': 1, 'to': 3, 'be': 1, 'romantic': 1, 'whimsical': 1, 'while': 1, 'laughingat': 1, 'conventions': 1, 'of': 1, 'fairy': 1, 'tale': 1, 'genre': 1, 'would': 1, 'recommend': 1, 'just': 1, 'about': 1, 'anyone': 1, 'have': 1, 'seen': 1, 'several': 1, 'times': 1, 'am': 1, 'always': 1, 'happy': 1, 'see': 1, 'again': 2}\n",
            "Most frequent word: it\n"
          ]
        }
      ],
      "source": [
        "import string\n",
        "#step 1: read content from Q1.txt into list\n",
        "with open('Q1.txt', 'r') as file1:\n",
        "    wordlist = file1.readlines()\n",
        "print(wordlist)\n",
        "\n",
        "#step 2: Convert the list into a single string and remove punctuation marks\n",
        "c_string = ' '.join(wordlist).translate(str.maketrans('', '', string.punctuation))\n",
        "\n",
        "#step 3: Create a dictionary that counts the frequency of words\n",
        "word_count = {}\n",
        "words = c_string.lower().split()\n",
        "\n",
        "for word in words:\n",
        "    if word in word_count:\n",
        "        word_count[word] = word_count[word] + 1\n",
        "    else:\n",
        "        word_count[word] = 1\n",
        "\n",
        "#step 4: Find the most frequent occured word\n",
        "most_frequent_word = max(word_count, key=word_count.get)\n",
        "\n",
        "print(\"Word count dictionary:\", word_count)\n",
        "print(\"Most frequent word:\", most_frequent_word)"
      ]
    },
    {
      "cell_type": "markdown",
      "metadata": {
        "id": "aQP7q021Xr9W"
      },
      "source": [
        "2) Write a Python program to read the name from Q2.txt and create email using domain 'parami.edu.mm' and save the results as dictionary :\n",
        "{'name': 'name@parami.edu.mm'}.\n",
        "Please take note that your email should not include space or any special characters and all charcters should be in lowercase."
      ]
    },
    {
      "cell_type": "code",
      "execution_count": 6,
      "metadata": {
        "colab": {
          "base_uri": "https://localhost:8080/"
        },
        "id": "uNeroIlkDbTW",
        "outputId": "6dc4b948-4ffe-44b5-83cc-2f3c58fe6bd4"
      },
      "outputs": [
        {
          "data": {
            "text/plain": [
              "{'dechen dorji': 'dechendorji@parami.edu.mm',\n",
              " 'deki tshomo': 'dekitshomo@parami.edu.mm',\n",
              " 'dorji tshering': 'dorjitshering@parami.edu.mm',\n",
              " 'dorji wangmo': 'dorjiwangmo@parami.edu.mm',\n",
              " 'gem tshering lepcha': 'gemtsheringlepcha@parami.edu.mm',\n",
              " 'jigme dorji': 'jigmedorji@parami.edu.mm',\n",
              " 'kinley cheki': 'kinleycheki@parami.edu.mm',\n",
              " 'kinley wangmo': 'kinleywangmo@parami.edu.mm',\n",
              " 'ngawang dema karpo': 'ngawangdemakarpo@parami.edu.mm',\n",
              " 'roshan chhetri': 'roshanchhetri@parami.edu.mm',\n",
              " 'sonam tenzin': 'sonamtenzin@parami.edu.mm',\n",
              " 'sonam tobgay': 'sonamtobgay@parami.edu.mm',\n",
              " 'sonam yangden': 'sonamyangden@parami.edu.mm',\n",
              " 'tandin om': 'tandinom@parami.edu.mm',\n",
              " 'tandin wangchuk': 'tandinwangchuk@parami.edu.mm',\n",
              " 'tashi om': 'tashiom@parami.edu.mm',\n",
              " 'tenday zangmo': 'tendayzangmo@parami.edu.mm',\n",
              " 'tshering pem': 'tsheringpem@parami.edu.mm',\n",
              " 'ugyen phurpa': 'ugyenphurpa@parami.edu.mm',\n",
              " 'marmitt': 'marmitt@parami.edu.mm'}"
            ]
          },
          "execution_count": 6,
          "metadata": {},
          "output_type": "execute_result"
        }
      ],
      "source": [
        "mydict = {}\n",
        "\n",
        "#step 1: read Q2.txt into the list\n",
        "with open('Q2.txt', 'r') as names:\n",
        "    header = names.readline()\n",
        "    namelist = names.readlines()\n",
        "\n",
        "#step 2: process the names and create email using domain 'parami.edu.mm'\n",
        "for name in namelist:\n",
        "    name = name.strip()  # Remove leading whitespace\n",
        "    name = name.lower()  # Convert to lowercase\n",
        "    email = name.replace(\" \", \"\") + \"@parami.edu.mm\"  # Create email\n",
        "    mydict[name] = email #create dictionary named mydict\n",
        "\n",
        "#step 3: print the result\n",
        "mydict"
      ]
    },
    {
      "cell_type": "code",
      "execution_count": null,
      "metadata": {},
      "outputs": [],
      "source": []
    }
  ],
  "metadata": {
    "colab": {
      "provenance": []
    },
    "kernelspec": {
      "display_name": "Python 3",
      "name": "python3"
    },
    "language_info": {
      "codemirror_mode": {
        "name": "ipython",
        "version": 3
      },
      "file_extension": ".py",
      "mimetype": "text/x-python",
      "name": "python",
      "nbconvert_exporter": "python",
      "pygments_lexer": "ipython3",
      "version": "3.9.13"
    }
  },
  "nbformat": 4,
  "nbformat_minor": 0
}
